{
 "cells": [
  {
   "cell_type": "markdown",
   "metadata": {},
   "source": [
    "# Project for extra credit in Adpro"
   ]
  },
  {
   "cell_type": "markdown",
   "metadata": {},
   "source": [
    "### 5a\n",
    "Install whisperai on a virtual environment and make a python function that receives a file or a youtube link and generates a text extraction. The function should also receive a model name with a default for the \"small\" model, which is also whisper's default. (the models here determine how much memory, gpu, etc you can use, as several models have different hardware requirements)."
   ]
  },
  {
   "cell_type": "code",
   "execution_count": 1,
   "metadata": {},
   "outputs": [
    {
     "name": "stdout",
     "output_type": "stream",
     "text": [
      " When I first told my friends that I was doing a talk on a study method that I\n",
      "use, I could see the collective look of disgust that slept across their faces as\n",
      "they processed what I just told them. So bear with me as I firmly believe that\n",
      "the Pomodoro method has the power to change your life. My typical cycle of\n",
      "studying used to start out determined. I would come home, sit down at my desk,\n",
      "and do a couple of worksheets. The only problem was that productiveness only\n",
      "lasted for an hour as I would easily get distracted. I would usually spend a\n",
      "couple hours on my phone and then I would snap back into determination but find\n",
      "myself getting burned out once again as the minutes ticked away. I would work\n",
      "until I physically couldn't anymore. I'd pass out, utterly exhausted. When my\n",
      "rigorous course choice this year, I had made myself promise that I would be\n",
      "productive. I had to. I had to succeed and yet I failed to do that every single\n",
      "day. I struggled to stay afloat, fatigued, stressed, and strained and I snapped\n",
      "as a result. And quite truthfully, I was disappointed, disappointed with myself.\n",
      "Then one day I came across a video. It was a video telling me how to study\n",
      "better and I was intrigued by one specific tip, the Pomodoro method. So what is\n",
      "it exactly? Well you start out by deciding on a task and estimating the amount\n",
      "of time that it will take you. Take for instance this AP World Chapter outline.\n",
      "I estimate that it will take me four hours of work, give or take. When instead\n",
      "of thinking about the outline as four hours of work, I'm going to think about it\n",
      "in terms of 25 minute increments or Pomodoros. So this outline would in theory\n",
      "take me eight Pomodoros. The next step is to work for those 25 minutes with\n",
      "absolutely no distractions or you have to restart the Pomodoro. But after that\n",
      "hyper focused work, you get to reward yourself with a five minute break which\n",
      "serves to recharge and refresh you in preparation for the next Pomodoro. Four\n",
      "cycles of this pattern of 25, five minutes and then you get to take a long\n",
      "break, 15 to 30 minutes. For myself, I typically still try to stay off my phone\n",
      "during these breaks and make some coffee, take a short walk or when I want to\n",
      "feel super productive, I'll do chores. I know. Shocker. This method is actually\n",
      "developed in the 90s by Francisco Cirillo who named the system Pomodoro which\n",
      "means tomato in Italian after this 25 minute kitchen timer that he used to track\n",
      "his work. It is important to know that although he developed the system for a\n",
      "25, five minute pattern, the Pomodoro is a fluid system. It's designed to help\n",
      "you and help you with your work. For myself, I stick to the traditional 25, five\n",
      "minute pattern when I'm doing worksheets or studying for tests but for longer\n",
      "and more time consuming assignments like let's say projects or essays, I choose\n",
      "to work for much longer increments that take shorter breaks. So here I am now.\n",
      "I'm still not the perfect student and I want to iterate that but the Pomodoro\n",
      "has changed me. It's changed the way I think and act about my work. When needed,\n",
      "I can spend a full day simply working as I'm just recharged and kept simulated\n",
      "through the whole day. With a timer constantly ticking, I find myself working\n",
      "quickly in order to achieve and accomplish those goals through each 25 minute\n",
      "increment. And quite truthfully, it just feels so much more rewarding and\n",
      "fulfilling. Being able to check things off after the other, watching your pile\n",
      "of work go down, knowing that you accomplished something that day instead of not\n",
      "to call you out but wasting two hours on Netflix. So now it's my turn to ask\n",
      "you, are you as efficient as you can me? Are you productive or does your time\n",
      "seem to just slip away? Do you complete your work or is it scraped together at\n",
      "the last minute? The Pomodoro is a fluid system designed to help you produce\n",
      "higher quality work in a shorter amount of time. But whatever method, I\n",
      "encourage you to think about your time differently. To set goals for yourself\n",
      "and strive to meet them. To set aside the constant distractions and focus on\n",
      "your task at hand. You never know how much time you really have until you start\n",
      "to use it and it looks like my break is over. Thank you. Thank you.\n"
     ]
    }
   ],
   "source": [
    "# %pip install pytube\n",
    "# %pip install -U openai-whisper\n",
    "# ffmpeg required: \n",
    "    # Mac: brew install ffmpeg, \n",
    "    # Linux: sudo apt-get install ffmpeg, \n",
    "    # Windows: https://www.wikihow.com/Install-FFmpeg-on-Windows\n",
    "\n",
    "\n",
    "# OPEN TO DO: Error handling\n",
    "\n",
    "\n",
    "# Import the required libraries\n",
    "import whisper\n",
    "from pytube import YouTube\n",
    "import textwrap\n",
    "\n",
    "# igore warnings\n",
    "import warnings\n",
    "warnings.filterwarnings(\"ignore\")\n",
    "\n",
    "def text_extraction(file, is_link=False, model_name=\"small\"):\n",
    "    \"\"\"\n",
    "    Extracts text from an audio file or YouTube video link using the specified Whisper model.\n",
    "\n",
    "    Arguments\n",
    "    ---------\n",
    "    file : str\n",
    "        The path to the audio file or the YouTube video link.\n",
    "    is_link : bool, optional\n",
    "        Whether the input is a YouTube video link. The default is False.\n",
    "    model_name : str, optional\n",
    "        The name of the Whisper model to use for transcription. The default is \"small\".\n",
    "\n",
    "    Returns\n",
    "    -------\n",
    "    None\n",
    "    \"\"\"\n",
    "    # Load the appropriate Whisper model\n",
    "    model = whisper.load_model(model_name)\n",
    "    \n",
    "    # Handle YouTube video links\n",
    "    if is_link:\n",
    "        # Initialize a YouTube object with the URL\n",
    "        yt = YouTube(file)\n",
    "        \n",
    "        # Get the audio stream with the highest quality\n",
    "        audio_stream = yt.streams.filter(only_audio=True).first()\n",
    "        \n",
    "        # Download the audio file, the default output is 'audio.mp4'\n",
    "        audio_file = audio_stream.download(filename='temp_audio.mp4')\n",
    "\n",
    "        # Set file to the downloaded audio file for transcription\n",
    "        file = audio_file\n",
    "\n",
    "    # Perform transcription\n",
    "    result = model.transcribe(file)\n",
    "\n",
    "    # Format the text output for improved readability\n",
    "    formatted_text = textwrap.fill(result[\"text\"], width=80)\n",
    "    \n",
    "    print(formatted_text)\n",
    "\n",
    "    # Clean up the downloaded audio file if it's a link\n",
    "    if is_link:\n",
    "        import os\n",
    "        os.remove(audio_file)\n",
    "\n",
    "# Example usage with a YouTube link\n",
    "ted_talk_url = \"https://www.youtube.com/watch?v=z7e7gtU3PHY\"\n",
    "text_extraction(ted_talk_url, is_link=True, model_name=\"small\")\n"
   ]
  },
  {
   "cell_type": "markdown",
   "metadata": {},
   "source": [
    "### 5b\n",
    "Make another function that receives a text file and uses gpt-3.5-turbo for summarization, but the model can also be an option:https://platform.openai.com/docs/models/overview  You can make it support only gpt-3.5-turbo and gpt-4-turbo but use only 3.5, as 4 is way too much expensive!"
   ]
  },
  {
   "cell_type": "code",
   "execution_count": null,
   "metadata": {},
   "outputs": [],
   "source": []
  },
  {
   "cell_type": "markdown",
   "metadata": {},
   "source": [
    "### 5c\n",
    "The summary created should be either \"main_topic\", \"abridged\", or \"descriptive\" (or you can find better names). Main_topic: the output should be just one or two sentences for the summary showing the main topic of the discussion in the text. \"Abridged\" should be 5-10 bullet points and \"descriptive\" should have something like 3k to 3.5k charact limit. Don't focus on the quality of the output, just on the code framework to make the prompt taking these options into account! Otherwise what is a 30m coding exercise will turn into hours of research!"
   ]
  },
  {
   "cell_type": "code",
   "execution_count": null,
   "metadata": {},
   "outputs": [],
   "source": []
  },
  {
   "cell_type": "markdown",
   "metadata": {},
   "source": [
    "### 5d\n",
    "Make a final function (or class) that puts everything together: receives as inputs the audio and all other options for whisper and the LLM and generates a text summary."
   ]
  },
  {
   "cell_type": "code",
   "execution_count": null,
   "metadata": {},
   "outputs": [],
   "source": []
  }
 ],
 "metadata": {
  "kernelspec": {
   "display_name": "adproExtra",
   "language": "python",
   "name": "python3"
  },
  "language_info": {
   "codemirror_mode": {
    "name": "ipython",
    "version": 3
   },
   "file_extension": ".py",
   "mimetype": "text/x-python",
   "name": "python",
   "nbconvert_exporter": "python",
   "pygments_lexer": "ipython3",
   "version": "3.12.2"
  }
 },
 "nbformat": 4,
 "nbformat_minor": 2
}
