{
 "cells": [
  {
   "cell_type": "markdown",
   "metadata": {},
   "source": [
    "# Project for extra credit in Adpro"
   ]
  },
  {
   "cell_type": "code",
   "execution_count": 2,
   "metadata": {},
   "outputs": [],
   "source": [
    "#imports\n",
    "import whisper\n",
    "from pytube import YouTube\n",
    "from IPython.display import Markdown, display\n",
    "import os\n",
    "import warnings\n",
    "from langchain_openai import ChatOpenAI\n",
    "\n",
    "warnings.filterwarnings(\"ignore\")"
   ]
  },
  {
   "cell_type": "markdown",
   "metadata": {},
   "source": [
    "### 5a\n",
    "Install whisperai on a virtual environment and make a python function that receives a file or a youtube link and generates a text extraction. The function should also receive a model name with a default for the \"small\" model, which is also whisper's default. (the models here determine how much memory, gpu, etc you can use, as several models have different hardware requirements)."
   ]
  },
  {
   "cell_type": "code",
   "execution_count": 3,
   "metadata": {},
   "outputs": [
    {
     "data": {
      "text/markdown": [
       " When I first told my friends that I was doing a talk on a study method that I use, I could see the collective look of disgust that slept across their faces as they processed what I just told them. So bear with me as I firmly believe that the Pomodoro method has the power to change your life. My typical cycle of studying used to start out determined. I would come home, sit down at my desk, and do a couple of worksheets. The only problem was that productiveness only lasted for an hour as I would easily get distracted. I would usually spend a couple hours on my phone and then I would snap back into determination but find myself getting burned out once again as the minutes ticked away. I would work until I physically couldn't anymore. I'd pass out, utterly exhausted. When my rigorous course choice this year, I had made myself promise that I would be productive. I had to. I had to succeed and yet I failed to do that every single day. I struggled to stay afloat, fatigued, stressed, and strained and I snapped as a result. And quite truthfully, I was disappointed, disappointed with myself. Then one day I came across a video. It was a video telling me how to study better and I was intrigued by one specific tip, the Pomodoro method. So what is it exactly? Well you start out by deciding on a task and estimating the amount of time that it will take you. Take for instance this AP World Chapter outline. I estimate that it will take me four hours of work, give or take. When instead of thinking about the outline as four hours of work, I'm going to think about it in terms of 25 minute increments or Pomodoros. So this outline would in theory take me eight Pomodoros. The next step is to work for those 25 minutes with absolutely no distractions or you have to restart the Pomodoro. But after that hyper focused work, you get to reward yourself with a five minute break which serves to recharge and refresh you in preparation for the next Pomodoro. Four cycles of this pattern of 25, five minutes and then you get to take a long break, 15 to 30 minutes. For myself, I typically still try to stay off my phone during these breaks and make some coffee, take a short walk or when I want to feel super productive, I'll do chores. I know. Shocker. This method is actually developed in the 90s by Francisco Cirillo who named the system Pomodoro which means tomato in Italian after this 25 minute kitchen timer that he used to track his work. It is important to know that although he developed the system for a 25, five minute pattern, the Pomodoro is a fluid system. It's designed to help you and help you with your work. For myself, I stick to the traditional 25, five minute pattern when I'm doing worksheets or studying for tests but for longer and more time consuming assignments like let's say projects or essays, I choose to work for much longer increments that take shorter breaks. So here I am now. I'm still not the perfect student and I want to iterate that but the Pomodoro has changed me. It's changed the way I think and act about my work. When needed, I can spend a full day simply working as I'm just recharged and kept simulated through the whole day. With a timer constantly ticking, I find myself working quickly in order to achieve and accomplish those goals through each 25 minute increment. And quite truthfully, it just feels so much more rewarding and fulfilling. Being able to check things off after the other, watching your pile of work go down, knowing that you accomplished something that day instead of not to call you out but wasting two hours on Netflix. So now it's my turn to ask you, are you as efficient as you can me? Are you productive or does your time seem to just slip away? Do you complete your work or is it scraped together at the last minute? The Pomodoro is a fluid system designed to help you produce higher quality work in a shorter amount of time. But whatever method, I encourage you to think about your time differently. To set goals for yourself and strive to meet them. To set aside the constant distractions and focus on your task at hand. You never know how much time you really have until you start to use it and it looks like my break is over. Thank you. Thank you."
      ],
      "text/plain": [
       "<IPython.core.display.Markdown object>"
      ]
     },
     "metadata": {},
     "output_type": "display_data"
    }
   ],
   "source": [
    "\n",
    "def text_extraction(file, is_link=False, model_name=\"small\", display_text=False):\n",
    "    \"\"\"\n",
    "    Extracts text from an audio file or YouTube video link using the specified Whisper model.\n",
    "\n",
    "    Arguments\n",
    "    ---------\n",
    "    file : str\n",
    "        The path to the audio file or the YouTube video link.\n",
    "    is_link : bool, optional\n",
    "        Whether the input is a YouTube video link. The default is False.\n",
    "    model_name : str, optional\n",
    "        The name of the Whisper model to use for transcription. The default is \"small\".\n",
    "    display_text : bool, optional\n",
    "        Whether to display the extracted text. The default is False.\n",
    "    \n",
    "    Returns\n",
    "    -------\n",
    "    str\n",
    "        The extracted text.\n",
    "    \"\"\"\n",
    "    try:\n",
    "        # Load the appropriate Whisper model\n",
    "        model = whisper.load_model(model_name)\n",
    "        \n",
    "        if is_link:\n",
    "            yt = YouTube(file)\n",
    "            audio_stream = yt.streams.filter(only_audio=True).first()\n",
    "            if not audio_stream:\n",
    "                raise Exception(\"No audio stream found in the video.\")\n",
    "            \n",
    "            audio_file = audio_stream.download(filename='audio.mp4')\n",
    "            file = audio_file  # Update file variable to the downloaded audio file\n",
    "\n",
    "        # Perform transcription\n",
    "        result = model.transcribe(file)\n",
    "\n",
    "        if display_text:\n",
    "            display(Markdown(result[\"text\"]))\n",
    "\n",
    "        # Clean up the downloaded audio file if it's a link\n",
    "        if is_link:\n",
    "            os.remove(audio_file)\n",
    "\n",
    "        return result[\"text\"]\n",
    "\n",
    "    except Exception as e:\n",
    "        print(f\"An error occurred: {e}\")\n",
    "        return \"\"\n",
    "\n",
    "# Example usage with a YouTube link\n",
    "ted_talk_url = \"https://www.youtube.com/watch?v=z7e7gtU3PHY\"\n",
    "text = text_extraction(ted_talk_url, is_link=True, model_name=\"small\", display_text=True)"
   ]
  },
  {
   "cell_type": "code",
   "execution_count": 4,
   "metadata": {},
   "outputs": [],
   "source": [
    "# store text in a .txt file\n",
    "with open(\"transcript.txt\", \"w\") as file:\n",
    "    file.write(text)"
   ]
  },
  {
   "cell_type": "markdown",
   "metadata": {},
   "source": [
    "### 5b\n",
    "Make another function that receives a text file and uses gpt-3.5-turbo for summarization, but the model can also be an option:https://platform.openai.com/docs/models/overview  You can make it support only gpt-3.5-turbo and gpt-4-turbo but use only 3.5, as 4 is way too much expensive!"
   ]
  },
  {
   "cell_type": "code",
   "execution_count": 5,
   "metadata": {},
   "outputs": [
    {
     "name": "stdout",
     "output_type": "stream",
     "text": [
      "Summary:\n"
     ]
    },
    {
     "data": {
      "text/markdown": [
       "The main topic of this text is the Pomodoro method, a study technique that involves working in focused 25-minute intervals with short breaks in between. The author shares their personal experience with using the Pomodoro method and encourages readers to consider using it to improve their productivity and efficiency."
      ],
      "text/plain": [
       "<IPython.core.display.Markdown object>"
      ]
     },
     "metadata": {},
     "output_type": "display_data"
    }
   ],
   "source": [
    "def GPT_summarize(file_path, model='gpt-3.5-turbo', display_text=False):\n",
    "    \"\"\"\n",
    "    Extracts text from an audio file or a YouTube video link using a specified Whisper model.\n",
    "\n",
    "    Arguments\n",
    "    ---------\n",
    "    file : str\n",
    "        The path to the audio file or the YouTube video link.\n",
    "    is_link : bool, optional\n",
    "        Indicates if 'file' is a YouTube video link. If True, the video's audio will be downloaded for processing.\n",
    "        The default is False.\n",
    "    model_name : str, optional\n",
    "        Specifies the Whisper model to use for transcription. Valid options include \"tiny\", \"base\", \"small\", \n",
    "        \"medium\", and \"large\". The default is \"small\".\n",
    "    display_text : bool, optional\n",
    "        If True, displays the extracted text using Markdown format. The default is False.\n",
    "\n",
    "    Returns\n",
    "    -------\n",
    "    str\n",
    "        The extracted text as a string. Returns an empty string and prints an error message in case of failure.\n",
    "    \"\"\"\n",
    "\n",
    "    # Read the text from the file\n",
    "    with open(file_path, 'r') as file:\n",
    "        text = file.read()\n",
    "\n",
    "    prompt = f\"Summarize the main topic of this text in one or two sentences:\\n\\n{text}\"\n",
    "\n",
    "    # Access ChatOpenAI to summarize the text\n",
    "    llm = ChatOpenAI(temperature=0.1, model = model)\n",
    "    summary = llm.invoke(prompt)\n",
    "\n",
    "    # Display the summarized text if requested\n",
    "    if display_text:\n",
    "        display(Markdown(summary.content))\n",
    "\n",
    "    return summary.content\n",
    "\n",
    "# Example usage\n",
    "\n",
    "# main topic\n",
    "print(\"Summary:\")\n",
    "summary = GPT_summarize(\"transcript.txt\", display_text=True)"
   ]
  },
  {
   "cell_type": "markdown",
   "metadata": {},
   "source": [
    "### 5c\n",
    "The summary created should be either \"main_topic\", \"abridged\", or \"descriptive\" (or you can find better names). Main_topic: the output should be just one or two sentences for the summary showing the main topic of the discussion in the text. \"Abridged\" should be 5-10 bullet points and \"descriptive\" should have something like 3k to 3.5k charact limit. Don't focus on the quality of the output, just on the code framework to make the prompt taking these options into account! Otherwise what is a 30m coding exercise will turn into hours of research!"
   ]
  },
  {
   "cell_type": "code",
   "execution_count": 6,
   "metadata": {},
   "outputs": [
    {
     "name": "stdout",
     "output_type": "stream",
     "text": [
      "Main Topic Summary:\n"
     ]
    },
    {
     "data": {
      "text/markdown": [
       "The main topic of this text is the Pomodoro method, a study technique that involves working in focused 25-minute intervals followed by short breaks. The author shares their personal experience with the method and encourages readers to consider using it to improve productivity and efficiency in their own work."
      ],
      "text/plain": [
       "<IPython.core.display.Markdown object>"
      ]
     },
     "metadata": {},
     "output_type": "display_data"
    },
    {
     "name": "stdout",
     "output_type": "stream",
     "text": [
      "\n",
      "Abridged Summary:\n"
     ]
    },
    {
     "data": {
      "text/markdown": [
       "- The author struggled with staying productive while studying until they discovered the Pomodoro method\n",
       "- The Pomodoro method involves working for 25 minutes with no distractions, followed by a 5-minute break\n",
       "- After four cycles of 25 minutes of work and 5-minute breaks, a longer break of 15-30 minutes is taken\n",
       "- The Pomodoro method was developed in the 90s by Francisco Cirillo and is named after a kitchen timer\n",
       "- The author finds the Pomodoro method helps them stay focused and productive throughout the day\n",
       "- The author encourages others to try the Pomodoro method to increase productivity and efficiency\n",
       "- The Pomodoro method can be adapted for different types of tasks, such as shorter increments for worksheets and longer increments for projects\n",
       "- The author believes that using time efficiently and setting goals can lead to higher quality work and a sense of accomplishment\n",
       "- The author challenges readers to think about their time differently and strive to be more productive\n",
       "- The author concludes by emphasizing the importance of using time effectively and getting back to work after their break"
      ],
      "text/plain": [
       "<IPython.core.display.Markdown object>"
      ]
     },
     "metadata": {},
     "output_type": "display_data"
    },
    {
     "name": "stdout",
     "output_type": "stream",
     "text": [
      "\n",
      "Descriptive Summary:\n"
     ]
    },
    {
     "data": {
      "text/markdown": [
       "The author begins by recounting their struggle with productivity and focus while studying. Despite their initial determination, they found themselves easily distracted and burnt out after short periods of time. This led to feelings of fatigue, stress, and disappointment in themselves. However, everything changed when they discovered the Pomodoro method through a video. The Pomodoro method involves breaking down tasks into 25-minute intervals, known as Pomodoros, followed by short breaks. After four Pomodoros, a longer break is taken. This method was developed by Francisco Cirillo in the 90s and is designed to help individuals stay focused and productive.\n",
       "\n",
       "The author explains how they apply the Pomodoro method to their study routine, estimating the time needed for each task and working in focused intervals with no distractions. They use the short breaks to recharge and refresh themselves, often engaging in activities like making coffee or doing chores. While they typically stick to the traditional 25, five-minute pattern for worksheets and test preparation, they adjust the intervals for longer assignments like projects or essays.\n",
       "\n",
       "The author reflects on how the Pomodoro method has transformed their approach to work. They now find themselves more efficient and able to work consistently throughout the day. The ticking timer motivates them to work quickly and achieve their goals within each Pomodoro. They find satisfaction in checking off tasks and reducing their workload, rather than wasting time on distractions like Netflix.\n",
       "\n",
       "In conclusion, the author encourages readers to consider their own productivity and time management. They emphasize the importance of setting goals, eliminating distractions, and focusing on tasks to produce higher quality work in less time. The Pomodoro method serves as a tool to help individuals make the most of their time and achieve their goals. The author leaves the audience with a challenge to rethink their approach to time and work, highlighting the benefits of using methods like the Pomodoro technique to enhance productivity and efficiency."
      ],
      "text/plain": [
       "<IPython.core.display.Markdown object>"
      ]
     },
     "metadata": {},
     "output_type": "display_data"
    }
   ],
   "source": [
    "\n",
    "from langchain_openai import ChatOpenAI\n",
    "\n",
    "def GPT_summarize(file_path, summary_style='main_topic', model='gpt-3.5-turbo', display_text=False):\n",
    "    \"\"\"\n",
    "    Summarizes the contents of a text file using a specified OpenAI model.\n",
    "\n",
    "    Arguments:\n",
    "    ---------\n",
    "    file_path : str\n",
    "        Path to the text file to be summarized.\n",
    "    summary_style : str, optional\n",
    "        Type of summary needed: 'main_topic', 'abridged', or 'descriptive'.\n",
    "        Default is 'main_topic'.\n",
    "    model : str, optional\n",
    "        Model to use for the AI summarization, options are 'gpt-3.5-turbo' or 'gpt-4-turbo'.\n",
    "        Default is 'gpt-3.5-turbo'.\n",
    "    display_text : bool, optional\n",
    "        If True, displays the summarized text using Markdown format. Default is False.\n",
    "\n",
    "    Returns:\n",
    "    --------\n",
    "    str\n",
    "        The summarized text. If an invalid summary style is provided, a ValueError is raised.\n",
    "\n",
    "    Notes:\n",
    "    -----\n",
    "    The function relies on the `langchain_openai.ChatOpenAI` class to interface with OpenAI's API.\n",
    "    \"\"\"\n",
    "\n",
    "    # Read the text from the file\n",
    "    with open(file_path, 'r') as file:\n",
    "        text = file.read()\n",
    "\n",
    "    # Generate the prompt based on the desired summary style\n",
    "    if summary_style == 'main_topic':\n",
    "        prompt = f\"Summarize the main topic of this text in one or two sentences:\\n\\n{text}\"\n",
    "    elif summary_style == 'abridged':\n",
    "        prompt = f\"Provide an abridged summary of this text in 5-10 bullet points:\\n\\n{text}\"\n",
    "    elif summary_style == 'descriptive':\n",
    "        prompt = f\"Write a detailed summary of this text with a character limit of 3000 to 3500 characters:\\n\\n{text}\"\n",
    "    else:\n",
    "        raise ValueError(\"Invalid summary style specified. Choose 'main_topic', 'abridged', or 'descriptive'.\")\n",
    "\n",
    "    # Access ChatOpenAI to summarize the text\n",
    "    llm = ChatOpenAI(temperature=0.1, model = model)\n",
    "    summary = llm.invoke(prompt)\n",
    "\n",
    "    # Display the summarized text if requested\n",
    "    if display_text:\n",
    "        display(Markdown(summary.content))\n",
    "\n",
    "    return summary.content\n",
    "\n",
    "# Example usage\n",
    "\n",
    "# main topic\n",
    "print(\"Main Topic Summary:\")\n",
    "summary = GPT_summarize(\"transcript.txt\", summary_style=\"main_topic\", display_text=True)\n",
    "\n",
    "# bullet points\n",
    "print(\"\\nAbridged Summary:\")\n",
    "summary = GPT_summarize(\"transcript.txt\", summary_style=\"abridged\", display_text=True)\n",
    "\n",
    "# descriptive\n",
    "print(\"\\nDescriptive Summary:\")\n",
    "summary = GPT_summarize(\"transcript.txt\", summary_style=\"descriptive\", display_text=True)"
   ]
  },
  {
   "cell_type": "markdown",
   "metadata": {},
   "source": [
    "### 5d\n",
    "Make a final function (or class) that puts everything together: receives as inputs the audio and all other options for whisper and the LLM and generates a text summary."
   ]
  },
  {
   "cell_type": "code",
   "execution_count": 7,
   "metadata": {},
   "outputs": [],
   "source": [
    "class AudioToSummary:\n",
    "\n",
    "    def __init__(self, link, is_link, model_name_whisper='small', model_name_llm='gpt-3.5-turbo'):\n",
    "        \"\"\"\n",
    "        Initialize the AudioToSummary instance with links and model specifications.\n",
    "\n",
    "        Parameters\n",
    "        ----------\n",
    "        link : str\n",
    "            The URL or path to the audio file to be processed. This could be a local path or a URL to a YouTube video.\n",
    "        is_link : bool\n",
    "            A flag to indicate whether the 'link' parameter is a URL to a YouTube video or a local file path.\n",
    "        model_name_whisper : str, optional\n",
    "            The name of the Whisper model to use for transcription. Defaults to 'small'.\n",
    "        model_name_llm : str, optional\n",
    "            The name of the language model to use for generating summaries. Defaults to 'gpt-3.5-turbo'.\n",
    "\n",
    "        Attributes\n",
    "        ----------\n",
    "        text : str\n",
    "            The text extracted from the audio file or YouTube video.\n",
    "        _summary : str or None\n",
    "            Cached value of the main topic summary. Calculated lazily.\n",
    "        _description : str or None\n",
    "            Cached value of the descriptive summary. Calculated lazily.\n",
    "        _abridged_summary : str or None\n",
    "            Cached value of the abridged summary. Calculated lazily.\n",
    "\n",
    "        Notes\n",
    "        -----\n",
    "        The attributes `_summary`, `_description`, and `_abridged_summary` are lazy-loaded, meaning\n",
    "        they are only computed when first accessed and if `text` is successfully extracted.\n",
    "        \"\"\"\n",
    "        self.model_name_whisper = model_name_whisper\n",
    "        self.link = link\n",
    "        self.model_name_llm = model_name_llm\n",
    "        self.is_link = is_link\n",
    "        self.text = self.text_extraction(self.link, is_link)\n",
    "        self._summary = None\n",
    "        self._description = None\n",
    "        self._abridged_summary = None\n",
    "\n",
    "    @property\n",
    "    def summary(self):\n",
    "        \"\"\"\n",
    "        Retrieve or compute the main topic summary of the text.\n",
    "\n",
    "        Returns\n",
    "        -------\n",
    "        str\n",
    "            The main topic summary of the text. If `text` is not loaded, it returns None.\n",
    "        \"\"\"\n",
    "        if self._summary is None and self.text:  # Generate summary only if text is loaded and summary not already generated\n",
    "            self._summary = self.GPT_summarize(self.text)\n",
    "        return self._summary\n",
    "\n",
    "    @property\n",
    "    def description(self):\n",
    "        \"\"\"\n",
    "        Retrieve or compute the descriptive summary of the text.\n",
    "\n",
    "        Returns\n",
    "        -------\n",
    "        str\n",
    "            The descriptive summary of the text. If `text` is not loaded, it returns None.\n",
    "        \"\"\"\n",
    "        if self._description is None and self.text:  # Generate descriptive summary only if text is loaded and not already generated\n",
    "            self._description = self.GPT_summarize(self.text, summary_style='descriptive')\n",
    "        return self._description\n",
    "\n",
    "    @property\n",
    "    def abridged_summary(self):\n",
    "        \"\"\"\n",
    "        Retrieve or compute the abridged summary of the text.\n",
    "\n",
    "        Returns\n",
    "        -------\n",
    "        str\n",
    "            The abridged summary of the text. If `text` is not loaded, it returns None.\n",
    "        \"\"\"\n",
    "        if self._abridged_summary is None and self.text:  # Generate abridged summary only if text is loaded and not already generated\n",
    "            self._abridged_summary = self.GPT_summarize(self.text, summary_style='abridged_summary')\n",
    "        return self._abridged_summary\n",
    "\n",
    "\n",
    "    def text_extraction(self, file, is_link=False):\n",
    "        \"\"\"\n",
    "        Extracts text from an audio file or YouTube video link using the specified Whisper model.\n",
    "\n",
    "        Parameters:\n",
    "        -----------\n",
    "        file : str\n",
    "            The path to the audio file or the YouTube video link.\n",
    "        is_link : bool\n",
    "            Specifies whether the input is a YouTube video link. Defaults to False.\n",
    "\n",
    "        Returns:\n",
    "        --------\n",
    "        str\n",
    "            The extracted text if successful, otherwise returns an empty string if an error occurs.\n",
    "\n",
    "        Notes:\n",
    "        -----\n",
    "        Handles the downloading and deletion of the audio file if the source is a YouTube link.\n",
    "        \"\"\"\n",
    "\n",
    "        try:\n",
    "            model = whisper.load_model(self.model_name_whisper)\n",
    "            if is_link:\n",
    "                yt = YouTube(file)\n",
    "                audio_stream = yt.streams.filter(only_audio=True).first()\n",
    "                if not audio_stream:\n",
    "                    raise Exception(\"No audio stream found in the video.\")\n",
    "\n",
    "                audio_file = audio_stream.download(filename='audio.mp4')\n",
    "                file = audio_file  # Update file variable to the downloaded audio file\n",
    "\n",
    "            result = model.transcribe(file)\n",
    "            text = result[\"text\"]\n",
    "\n",
    "            if is_link:\n",
    "                os.remove(audio_file)\n",
    "\n",
    "            return text\n",
    "\n",
    "        except Exception as e:\n",
    "            print(f\"An error occurred: {e}\")\n",
    "            return \"\"\n",
    "\n",
    "    def GPT_summarize(self, text, summary_style='main_topic', model='gpt-3.5-turbo'):\n",
    "        \"\"\"\n",
    "        Summarizes the text using a specified OpenAI model.\n",
    "\n",
    "        Parameters:\n",
    "        -----------\n",
    "        text : str\n",
    "            The text to be summarized.\n",
    "        summary_style : str, optional\n",
    "            The type of summary required: 'main_topic', 'abridged_summary', or 'descriptive'.\n",
    "            Defaults to 'main_topic'.\n",
    "        model : str, optional\n",
    "            The model to use for the AI summarization, with options including 'gpt-3.5-turbo' or 'gpt-4-turbo'.\n",
    "            Defaults to 'gpt-3.5-turbo'.\n",
    "\n",
    "        Returns:\n",
    "        --------\n",
    "        str\n",
    "            The summarized text. Raises a ValueError if an invalid summary style is provided.\n",
    "\n",
    "        Notes:\n",
    "        -----\n",
    "        Leverages the OpenAI's GPT model for generating summaries based on the specified style.\n",
    "        \"\"\"\n",
    "\n",
    "        # Generate the prompt based on the desired summary style\n",
    "        if summary_style == 'main_topic':\n",
    "            prompt = f\"Summarize the main topic of this text in one or two sentences:\\n\\n{text}\"\n",
    "        elif summary_style == 'abridged_summary':\n",
    "            prompt = f\"Provide an abridged summary of this text in 5-10 bullet points:\\n\\n{text}\"\n",
    "        elif summary_style == 'descriptive':\n",
    "            prompt = f\"Write a detailed summary of this text with a character limit of 3000 to 3500 characters:\\n\\n{text}\"\n",
    "        else:\n",
    "            raise ValueError(\"Invalid summary style specified. Choose 'main_topic', 'abridged', or 'descriptive'.\")\n",
    "\n",
    "        # Access ChatOpenAI to summarize the text\n",
    "        llm = ChatOpenAI(temperature=0.1, model = model)\n",
    "        summary = llm.invoke(prompt)\n",
    "\n",
    "        return summary.content"
   ]
  },
  {
   "cell_type": "code",
   "execution_count": 8,
   "metadata": {},
   "outputs": [
    {
     "name": "stdout",
     "output_type": "stream",
     "text": [
      "summary:  The text discusses the Pomodoro method as a study technique that can help improve productivity and efficiency. The author shares their personal experience with using the method and encourages readers to consider their own time management habits in order to achieve their goals.\n",
      "\n",
      "description:  The author begins by recounting their struggle with productivity and focus while studying. They describe a familiar cycle of starting out determined, only to quickly become distracted and burned out, leading to feelings of fatigue, stress, and disappointment. However, everything changed when they discovered the Pomodoro method, a time management technique developed by Francisco Cirillo in the 90s.\n",
      "\n",
      "The Pomodoro method involves breaking down tasks into 25-minute intervals, known as Pomodoros, followed by short breaks. After four Pomodoros, a longer break of 15-30 minutes is taken. The author explains how they apply this method to their study routine, focusing intensely for 25 minutes, then rewarding themselves with a short break. They also adapt the method for longer assignments, working in longer increments with shorter breaks.\n",
      "\n",
      "The author emphasizes the flexibility of the Pomodoro method and how it has transformed their approach to work. They describe feeling more focused, productive, and fulfilled, able to work consistently throughout the day and achieve their goals efficiently. They contrast this with their previous habits of procrastination and distraction, highlighting the sense of accomplishment that comes from completing tasks one by one.\n",
      "\n",
      "In conclusion, the author encourages readers to consider their own productivity habits and to adopt a more structured approach to time management. They urge readers to set goals, eliminate distractions, and focus on tasks at hand, emphasizing the potential for higher quality work in less time. The author's personal success with the Pomodoro method serves as a testament to its effectiveness and a call to action for others to rethink their approach to time management.\n",
      "\n",
      "Abridget summary:  - The author struggled with staying productive while studying until they discovered the Pomodoro method\n",
      "- The Pomodoro method involves working for 25 minutes with no distractions, followed by a 5-minute break\n",
      "- After four cycles of work and breaks, a longer break of 15-30 minutes is taken\n",
      "- The method was developed by Francisco Cirillo in the 90s and is named after a kitchen timer\n",
      "- The Pomodoro method can be adapted for different types of tasks, with longer work periods for more time-consuming assignments\n",
      "- The author found the Pomodoro method to be rewarding and fulfilling, helping them stay focused and productive\n",
      "- The author encourages others to consider their time differently and set goals to improve productivity\n",
      "- The Pomodoro method is designed to help produce higher quality work in a shorter amount of time\n",
      "- The author challenges readers to assess their own efficiency and productivity levels\n",
      "- The author concludes by emphasizing the importance of using time effectively and getting back to work after their break.\n"
     ]
    }
   ],
   "source": [
    "# Example 1\n",
    "processor = AudioToSummary(link =\"https://www.youtube.com/watch?v=z7e7gtU3PHY\",is_link=True)\n",
    "print('summary: ', processor.summary)\n",
    "print()\n",
    "print('description: ', processor.description)\n",
    "print()\n",
    "print('Abridget summary: ', processor.abridged_summary)"
   ]
  },
  {
   "cell_type": "code",
   "execution_count": 9,
   "metadata": {},
   "outputs": [
    {
     "name": "stdout",
     "output_type": "stream",
     "text": [
      "summary:  Physicists and mathematicians have revolutionized the financial industry by using equations to model market dynamics and price derivatives accurately. This has led to the creation of multi-trillion dollar industries and has allowed for the development of strategies to beat the market, as seen with the success of Jim Simons and the Medallion Fund. Their work has also challenged the efficient market hypothesis and provided new insights into risk management and market stability.\n",
      "\n",
      "description:  The text discusses the impact of a single equation on the financial industry, specifically the Black-Scholes-Merton equation, which revolutionized the pricing of derivatives. The equation, derived by Fisher Black, Myron Scholes, and Robert Merton, provided a way to accurately price options and opened up a new way to hedge against risks in the market. The text explores the history of derivatives, from the earliest known options bought by the Greek philosopher Thales of Miletus to the modern-day multi-trillion dollar industry. It also delves into the role of physicists, mathematicians, and scientists in shaping the financial markets, with examples like Jim Simons, who founded Renaissance Technologies and the Medallion Fund, which became the highest returning investment fund of all time.\n",
      "\n",
      "The text also highlights the contributions of Ed Thorpe, who pioneered card counting in blackjack and later applied his skills to the stock market, as well as the work of Louis Bachelier, who laid the foundation for modeling financial markets using probability theory. It discusses how the efficient market hypothesis, which states that it is impossible to beat the market, was challenged by the success of traders like Simons and Thorpe, who were able to find patterns and inefficiencies in the market.\n",
      "\n",
      "Furthermore, the text touches on the impact of derivatives on market stability, liquidity, and leverage, as well as the role of options in hedging against risks in various industries. It also explores the implications of the rise of derivatives markets, such as the GameStop short squeeze, and the potential risks and benefits associated with these complex financial instruments.\n",
      "\n",
      "Overall, the text provides a comprehensive overview of the history, development, and impact of derivatives and the Black-Scholes-Merton equation on the financial industry, highlighting the role of mathematicians, physicists, and scientists in shaping modern financial markets and providing new insights into risk management and market dynamics.\n",
      "\n",
      "Abridget summary:  - The Black-Scholes-Merton equation revolutionized the financial industry and led to the creation of multi-trillion dollar industries such as options trading and derivatives.\n",
      "- Physicists and mathematicians, such as Jim Simons, have been able to use their expertise to beat the stock market and generate significant returns.\n",
      "- The efficient market hypothesis, which suggests that it is impossible to beat the market, has been challenged by the success of funds like the Medallion Fund.\n",
      "- Options trading allows for hedging against risks and provides leverage, but can also lead to significant losses if not managed properly.\n",
      "- The Black-Scholes-Merton equation is based on the idea of a random walk, where stock prices move randomly with a general trend up or down.\n",
      "- Physicists and mathematicians have played a key role in developing models for pricing options and understanding market dynamics.\n",
      "- The Medallion Fund, founded by Jim Simons, has been the highest returning investment fund of all time, challenging the efficient market hypothesis.\n",
      "- Hidden Markov models and other data-driven strategies have been used by Renaissance Technologies to achieve high returns in the stock market.\n",
      "- Physicists and mathematicians have provided new insights into risk and market dynamics, leading to the elimination of market inefficiencies.\n"
     ]
    }
   ],
   "source": [
    "#Example 2\n",
    "Veritasium = AudioToSummary(link =\"https://www.youtube.com/watch?v=A5w-dEgIU1M\",is_link=True)\n",
    "print('summary: ', Veritasium.summary)\n",
    "print()\n",
    "print('description: ', Veritasium.description)\n",
    "print()\n",
    "print('Abridget summary: ', Veritasium.abridged_summary)"
   ]
  }
 ],
 "metadata": {
  "kernelspec": {
   "display_name": "Python 3 (ipykernel)",
   "language": "python",
   "name": "python3"
  },
  "language_info": {
   "codemirror_mode": {
    "name": "ipython",
    "version": 3
   },
   "file_extension": ".py",
   "mimetype": "text/x-python",
   "name": "python",
   "nbconvert_exporter": "python",
   "pygments_lexer": "ipython3",
   "version": "3.10.13"
  }
 },
 "nbformat": 4,
 "nbformat_minor": 4
}
